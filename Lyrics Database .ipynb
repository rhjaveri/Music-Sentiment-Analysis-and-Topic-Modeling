{
 "cells": [
  {
   "cell_type": "code",
   "execution_count": 104,
   "metadata": {},
   "outputs": [],
   "source": [
    "# formats the data from BillBoard to be Queried with the Genius API\n",
    "\n",
    "def fArtist(artist):\n",
    "    a = splitFeature(artist)\n",
    "    a = splitAND(a)\n",
    "    a = splitComma(a)\n",
    "    return a.strip()\n",
    "\n",
    "def splitFeature(artist):\n",
    "    head, sep, tail = artist.partition('Featuring')\n",
    "    return head\n",
    "\n",
    "def splitAND(artist):\n",
    "    head, sep, tail = artist.partition('&')\n",
    "    return head\n",
    "\n",
    "def splitComma(artist):\n",
    "    head, sep, tail = artist.partition(',')\n",
    "    return head\n"
   ]
  },
  {
   "cell_type": "code",
   "execution_count": 105,
   "metadata": {
    "scrolled": true
   },
   "outputs": [],
   "source": [
    "# open each CSV file into a Pandas dataframe that contains the Title, Artist, and Position of each BillBoard song\n",
    "import pandas as pd\n",
    "import pymysql\n",
    "import json\n",
    "import sklearn\n",
    "pd.set_option('display.max_rows', 500)\n",
    "pd.set_option('display.max_columns', 500)\n",
    "pd.set_option('display.width', 1000)\n",
    "years = ['1956', '1957', '1958', '1959', '1960',\n",
    "         '1961', '1962', '1963', '1964', '1965', '1966', '1967', '1968', '1969', '1970',\n",
    "        '1971', '1972', '1973', '1974', '1975', '1976', '1977', '1978', '1979', '1980',\n",
    "        '1981', '1982', '1983', '1984', '1985', '1986', '1987', '1988', '1989', '1990',\n",
    "        '1991', '1992', '1993', '1994', '1995', '1996', '1997', '1998', '1999', '2000',\n",
    "        '2001', '2002', '2003', '2004', '2005', '2006', '2007', '2008', '2009', '2010',\n",
    "        '2011', '2012', '2013', '2014', '2015']\n",
    "\n",
    "#initialize charts, which is a dictionary of Dataframes\n",
    "charts = {}\n",
    "\n",
    "# place each year's DataFrame into the dictionary\n",
    "for year in years:\n",
    "    charts[year] = pd.read_csv('~/Downloads/billboard/' + year + '.csv')\n",
    "    if 'PositionÊ' in charts.get(year).columns:\n",
    "        charts[year] = charts[year].rename(columns={\"PositionÊ\": \"Position\"})\n",
    "    charts[year]['Lyrics'] = \"\"\n",
    "    \n",
    "\n"
   ]
  },
  {
   "cell_type": "code",
   "execution_count": 106,
   "metadata": {},
   "outputs": [],
   "source": [
    "#Connect To MYSQL Database and Genius API\n",
    "\n",
    "#conn = pymysql.connect( host='localhost', user='root', passwd=\"Ishaaniscool!\", db= \"Music\")\n",
    "#current = conn.cursor() \n",
    "#genius = lyricsgenius.Genius(\"2URYv5lLVxhEyIsydOwwAmbp6ZoMEO7v-MM4LKI--ih0xTGCWu9lJjHNpx0AdjA-\") "
   ]
  },
  {
   "cell_type": "markdown",
   "metadata": {},
   "source": [
    "     Below is the Script for Extracting Lyrics from Genius and saving to MySQL Database. Because of server timeouts by the Genius API, a commit was made as soon as a full year's worth of Music Lyrics was saved. This was repeated until every year's worth of BillBoard data was populated in the Database.\n",
    "\n",
    "\n",
    "\n",
    "    The Database itself contains one table with the BillBoard Year, the Title, Artist, BillBoard Position, and Lyrics. The Primary Key for this table was the Year and Title (given it is possible a song extends multiple years)\n"
   ]
  },
  {
   "cell_type": "code",
   "execution_count": 107,
   "metadata": {},
   "outputs": [],
   "source": [
    "\n",
    "#for year in years:\n",
    " #   df = charts.get(year)\n",
    "  #  for index, row in df.iterrows():\n",
    "   #     song = genius.search_song(row['Song Title'], fArtist(row['Artist']))\n",
    "    #    if song is not None:\n",
    "            #row['Lyrics'] = song.lyrics\n",
    "     #       query = \"INSERT INTO Music_Archive(Title, Artist, Year, Position, Lyrics) VALUES (%s, %s, %s, %s, %s)\"\n",
    "      #      current.execute(query, (song.artist, song.title, int(year), int(row['Position']), song.lyrics))\n",
    "   # conn.commit()\n",
    "\n",
    "# conn.close() "
   ]
  },
  {
   "cell_type": "markdown",
   "metadata": {},
   "source": [
    "\n",
    "\n",
    "Cleaning Data in MYSQLWorkBench:\n",
    "\n",
    "    First, need to get rid of songs that have over 7,000 characters or contains BillBoard/Genius in its Title because it is likely incorrect data outputted by the Genius Query\n",
    "\n",
    "\n",
    "Delete from Music_Archive where length(Lyrics) > 10000\n",
    "\n",
    "Delete from Music_Archive where Title = 'Billboard'\n",
    "\n",
    "Delete from Music_Archive where Title = 'Genius'\n",
    "\n",
    "Delete FROM Music_Archive WHERE Title LIKE '%Screen Genius%'\n",
    "\n",
    "Delete FROM Music_Archive WHERE Title LIKE '%Genius%'\n",
    "\n",
    "    Lastly, there was too little relevant Lyrics data from 1950 - 1955 so I dropped all the rows from these years. I Guess we are working with data after 1955.\n",
    "\n",
    "Delete from Music_Archive where Year < 1956"
   ]
  },
  {
   "cell_type": "markdown",
   "metadata": {},
   "source": [
    "    \n",
    "    \n",
    "    \n",
    "    Now we can start using the Lyrics to perform Topic Modeling of Music Over Time. First, I preprocessed the Lyrics using Tokenization, Lemmatization, Stopwords, and removing other irrelevant characters. I only kept parts of speech that were tagged as nouns, because they are far more likely to describe something that could relate as a concept"
   ]
  },
  {
   "cell_type": "code",
   "execution_count": 108,
   "metadata": {},
   "outputs": [
    {
     "name": "stderr",
     "output_type": "stream",
     "text": [
      "[nltk_data] Downloading package stopwords to\n",
      "[nltk_data]     /Users/rohiljaveri/nltk_data...\n",
      "[nltk_data]   Package stopwords is already up-to-date!\n"
     ]
    }
   ],
   "source": [
    "from nltk.tokenize import RegexpTokenizer\n",
    "tokenizer = RegexpTokenizer(r'\\w+')\n",
    "import nltk\n",
    "nltk.download('stopwords')\n",
    "from nltk.corpus import stopwords\n",
    "from gensim import corpora, models\n",
    "import gensim\n",
    "from nltk.stem import SnowballStemmer\n",
    "from gensim.models import LdaModel, LdaMulticore\n",
    "import re\n",
    "from sklearn.feature_extraction.text import TfidfVectorizer\n",
    "\n",
    "\n",
    "# load the JSON file from the cleaned Database\n",
    "data = pd.read_json(r'/Users/rohiljaveri/Downloads/FinalLyrics.json')\n",
    "\n",
    "#lowercase all the lyrics\n",
    "data['Lyrics'] = data['Lyrics'].str.lower()\n",
    "\n",
    "def removeNestedParentheses(s):\n",
    "    ret = ''\n",
    "    skip = 0\n",
    "    for i in s:\n",
    "        if i == '[':\n",
    "            skip += 1\n",
    "        elif i == ']'and skip > 0:\n",
    "            skip -= 1\n",
    "        elif skip == 0:\n",
    "            ret += i\n",
    "    return ret\n",
    "\n",
    "words = set(nltk.corpus.words.words())\n",
    "\n",
    "#get rid of characters in between brackets\n",
    "for i, row in data.iterrows():\n",
    "    data.at[i,'Lyrics'] = removeNestedParentheses(data.at[i,'Lyrics'])\n",
    "    data.at[i,'Lyrics'] = \" \".join(w for w in nltk.wordpunct_tokenize(data.at[i,'Lyrics']) \\\n",
    "        if w.lower() in words or not w.isalpha())\n",
    "        \n",
    "\n",
    "\n",
    "\n",
    "#get rid of tracks that are empty\n",
    "data = data[data['Lyrics'] != \"\"]\n",
    "\n",
    "# created my own custom stop words \n",
    "stopwordscustom = ['yeah', 'oo', 'ooo', 'ooh', 'oh', 'woah', 'feat', 'aye', 'la', 'hey', 'doo',\n",
    "                   'ye', 'bomp', 'instrumental', 'Instrumental', ']', '[', 'Chorus', 'Verse', \"huh\"\n",
    "                   'Intro', ':', '\\n', 'cause'] \n",
    "#set the stop_words\n",
    "stop_words = set(stopwords.words('english')) \n",
    "\n",
    "#Create SnowBallStemmer\n",
    "snowball = SnowballStemmer(language='english')\n",
    "\n",
    "# list for tokenized documents in loop\n",
    "texts = []\n",
    "\n",
    "for index, row in data.iterrows():\n",
    "    tokens = tokenizer.tokenize(row['Lyrics'])\n",
    "    \n",
    "    #remove non-nouns\n",
    "    tagged = nltk.pos_tag(tokens)\n",
    "    tagged = [s for s in tagged if s[1] == 'NN']\n",
    "    tagged_tokens = [s[0] for s in tagged]\n",
    "\n",
    "    \n",
    "    stopped = [i for i in tagged_tokens if not i in stop_words]\n",
    "    stopped = [i for i in stopped if not i in stopwordscustom]\n",
    "    stopped = [i for i in stopped if len(i) > 2]\n",
    "    stemmed = [snowball.stem(i) for i in stopped]\n",
    "    texts.append(stopped)\n",
    "\n",
    "\n"
   ]
  },
  {
   "cell_type": "code",
   "execution_count": 109,
   "metadata": {},
   "outputs": [
    {
     "name": "stdout",
     "output_type": "stream",
     "text": [
      "Dictionary(7544 unique tokens: ['baby', 'bellhop', 'clerk', 'desk', 'end']...)\n"
     ]
    }
   ],
   "source": [
    "\n",
    "    \n",
    "# turn our tokenized documents into a id <-> term dictionary\n",
    "dictionary = corpora.Dictionary(texts)\n",
    "print(dictionary)\n",
    "\n",
    "# convert tokenized documents into a document-term matrix\n",
    "bow_corpus = [dictionary.doc2bow(text) for text in texts]\n",
    "\n",
    "#create a Tfidf Model\n",
    "tfidf = models.TfidfModel(bow_corpus, normalize = True)\n",
    "corpus_tfidf = tfidf[bow_corpus]\n",
    "\n",
    "#print(corpus_tfidf)\n",
    "# generate LDA model\n",
    "lda_model_tfidf = gensim.models.ldamodel.LdaModel(corpus_tfidf, num_topics= 2, iterations = 100, id2word = dictionary, passes= 20)"
   ]
  },
  {
   "cell_type": "code",
   "execution_count": 110,
   "metadata": {},
   "outputs": [
    {
     "data": {
      "image/png": "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\n",
      "text/plain": [
       "<Figure size 720x720 with 2 Axes>"
      ]
     },
     "metadata": {
      "needs_background": "light"
     },
     "output_type": "display_data"
    }
   ],
   "source": [
    "#visualize the  information \n",
    "#source from https://www.machinelearningplus.com/nlp/topic-modeling-visualization-how-to-present-results-lda-models/\n",
    "\n",
    "# 1. Wordcloud of Top N words in each topic\n",
    "from matplotlib import pyplot as plt\n",
    "from wordcloud import WordCloud, STOPWORDS\n",
    "import matplotlib.colors as mcolors\n",
    "\n",
    "cols = [color for name, color in mcolors.TABLEAU_COLORS.items()]  # more colors: 'mcolors.XKCD_COLORS'\n",
    "\n",
    "cloud = WordCloud(stopwords=stop_words,\n",
    "                  background_color='white',\n",
    "                  width=2500,\n",
    "                  height=1800,\n",
    "                  max_words=10,\n",
    "                  colormap='tab10',\n",
    "                  color_func=lambda *args, **kwargs: cols[i],\n",
    "                  prefer_horizontal=1.0)\n",
    "\n",
    "topics = lda_model_tfidf.show_topics(formatted=False)\n",
    "\n",
    "fig, axes = plt.subplots(1, 2, figsize=(10,10), sharex=True, sharey=True)\n",
    "\n",
    "for i, ax in enumerate(axes.flatten()):\n",
    "    fig.add_subplot(ax)\n",
    "    topic_words = dict(topics[i][1])\n",
    "    cloud.generate_from_frequencies(topic_words, max_font_size=300)\n",
    "    plt.gca().imshow(cloud)\n",
    "    plt.gca().set_title('Topic ' + str(i), fontdict=dict(size=16))\n",
    "    plt.gca().axis('off')\n",
    "\n"
   ]
  },
  {
   "cell_type": "markdown",
   "metadata": {},
   "source": [

    "    I predicted that music generally falls into one of two categories: sex/partying and love. \n Thus, I chose to only divide the music into two topics for the LDA Model. Turns out, I may have been correct. \n Setting other values for topic numbers yielded odd topic distributions that didn't make much sense, but setting it at 2 created a distribution that I believe well encapsulates most music today",
    "\n"
   ]
  }
  

  {
   "cell_type": "markdown",
   "metadata": {},
   "source": [
    "# the next step of this project is sentiment analysis... \n",
    "\n",
    "    First, I downloaded music data already labelled as positive/negative from Moody Lyrics, which I am using to train a classifier for sentiment analysis\n",
    "\n"
   ]
  },
  {
   "cell_type": "code",
   "execution_count": 111,
   "metadata": {},
   "outputs": [],
   "source": [
    "import pandas as pd\n",
    "import pylyrics3\n",
    "import pymysql\n",
    "conn = pymysql.connect( host='localhost', user='root', passwd=\"Ishaaniscool!\", db= \"Music\")\n",
    "current = conn.cursor() \n",
    "\n",
    "#row['Lyrics'] = song.lyrics\n",
    "#1062\n",
    "\n",
    "pd.options.display.max_columns = 999\n",
    "X = pd.read_csv(r'/Users/rohiljaveri/Downloads/ml_pn_balanced.csv')\n",
    "X = X.drop(['Index'], axis=1)\n",
    "\n"
   ]
  },
  {
   "cell_type": "code",
   "execution_count": 112,
   "metadata": {},
   "outputs": [],
   "source": [
    "# Getting all the lyrics from the songs using pylyrics this time!\n",
    "#for index, row in X.iterrows():\n",
    " #       lyrics = pylyrics3.get_song_lyrics(row['Artist'], row['Title'])\n",
    "  #      if lyrics is not None:\n",
    "   #         print(index)\n",
    "    #        query = \"INSERT INTO Label_Songs(Title, Artist, Lyrics, Label) VALUES (%s, %s, %s, %s)\"\n",
    "     #       current.execute(query, (row['Title'], row['Artist'], lyrics, row['Mood']))\n",
    "      #      conn.commit()\n",
    "\n",
    "#conn.close()\n",
    "# Had to go in and manually enter the data that had no lyrics searched"
   ]
  },
  {
   "cell_type": "code",
   "execution_count": 113,
   "metadata": {},
   "outputs": [],
   "source": [
    "import pandas as pd \n",
    "import numpy as np\n",
    "# load the JSON file from the cleaned Database\n",
    "NNdata = pd.read_json(r'/Users/rohiljaveri/Downloads/TrainData.json')\n",
    "\n",
    "#lowercase all the lyrics\n",
    "NNdata['Lyrics'] = NNdata['Lyrics'].str.lower()\n",
    "\n",
    "\n",
    "words = set(nltk.corpus.words.words())\n",
    "\n",
    "#get rid of shit in between brackets\n",
    "for i, row in NNdata.iterrows():\n",
    "    NNdata.at[i,'Lyrics'] = removeNestedParentheses(NNdata.at[i,'Lyrics'])\n",
    "    NNdata.at[i,'Lyrics'] = \" \".join(w for w in nltk.wordpunct_tokenize(NNdata.at[i,'Lyrics']) \\\n",
    "        if w.lower() in words or not w.isalpha())\n",
    "        \n",
    "\n",
    "#get rid of tracks that are empty\n",
    "NNdata = NNdata[NNdata['Lyrics'] != \"\"]\n"
   ]
  },
  {
   "cell_type": "code",
   "execution_count": 114,
   "metadata": {},
   "outputs": [],
   "source": [
    "#preprocess the labelled data using the same techniques as above\n",
    "def preprocess(X):\n",
    "    tokens = tokenizer.tokenize(X)\n",
    "    stopped = [i for i in tokens if not i in stop_words]\n",
    "    stopped = [i for i in stopped if not i in stopwordscustom]\n",
    "    stopped = [i for i in stopped if len(i) > 2]\n",
    "    stemmed = [snowball.stem(i) for i in stopped]\n",
    "    processed = ' '.join(stemmed)\n",
    "    return processed\n",
    "\n",
    "\n",
    "\n"
   ]
  },
  {
   "cell_type": "code",
   "execution_count": 115,
   "metadata": {},
   "outputs": [],
   "source": [
    "# encode the data as either positive or negative\n",
    "for index, row in NNdata.iterrows():\n",
    "    if row['Label'] == 'neg':\n",
    "        row['Label'] = 0\n",
    "    else:\n",
    "        row['Label'] = 1"
   ]
  },
  {
   "cell_type": "code",
   "execution_count": 116,
   "metadata": {},
   "outputs": [
    {
     "name": "stdout",
     "output_type": "stream",
     "text": [
      "(1552, 55250)\n",
      "(389, 55250)\n"
     ]
    }
   ],
   "source": [
    "from sklearn.model_selection import train_test_split\n",
    "\n",
    "#splits into Series for train and test values\n",
    "X_train, X_test, y_train, y_test = train_test_split(NNdata['Lyrics'], NNdata['Label'], test_size=0.20, random_state=42)\n",
    "\n",
    "y_test = np.asarray(y_test)\n",
    "y_train = np.asarray(y_train)\n",
    "y_train = y_train.astype('int') \n",
    "y_test = y_test.astype('int') \n",
    "\n",
    "y_train = y_train.flatten()\n",
    "y_test = y_test.flatten()\n",
    "\n",
    "\n",
    "X_train = X_train.apply(lambda x: preprocess(x))\n",
    "X_test = X_test.apply(lambda x: preprocess(x))\n",
    "\n",
    "\n",
    "#fit the training data to the vectorizer\n",
    "vectorizer = TfidfVectorizer(ngram_range=(1, 2))\n",
    "X_train_tfidf_matrix = vectorizer.fit_transform(X_train)\n",
    "\n",
    "#transform the test data\n",
    "X_test_tfidf_matrix = vectorizer.transform(X_test)\n",
    "\n",
    "print(X_train_tfidf_matrix.shape)\n",
    "print(X_test_tfidf_matrix.shape)\n"
   ]
  },
  {
   "cell_type": "code",
   "execution_count": 117,
   "metadata": {},
   "outputs": [
    {
     "name": "stdout",
     "output_type": "stream",
     "text": [
      "[1 0 1 ... 0 1 1]\n",
      "Train on 1552 samples\n",
      "Epoch 1/20\n",
      "1552/1552 - 1s - loss: 1.4479 - accuracy: 0.5026\n",
      "Epoch 2/20\n",
      "1552/1552 - 1s - loss: 0.5640 - accuracy: 0.5474\n",
      "Epoch 3/20\n",
      "1552/1552 - 1s - loss: 0.2715 - accuracy: 0.8831\n",
      "Epoch 4/20\n",
      "1552/1552 - 1s - loss: 0.0887 - accuracy: 0.9900\n",
      "Epoch 5/20\n",
      "1552/1552 - 1s - loss: 0.0275 - accuracy: 0.9990\n",
      "Epoch 6/20\n",
      "1552/1552 - 1s - loss: 0.0119 - accuracy: 0.9994\n",
      "Epoch 7/20\n",
      "1552/1552 - 1s - loss: 0.0060 - accuracy: 1.0000\n",
      "Epoch 8/20\n",
      "1552/1552 - 1s - loss: 0.0033 - accuracy: 1.0000\n",
      "Epoch 9/20\n",
      "1552/1552 - 1s - loss: 0.0020 - accuracy: 1.0000\n",
      "Epoch 10/20\n",
      "1552/1552 - 1s - loss: 0.0014 - accuracy: 1.0000\n",
      "Epoch 11/20\n",
      "1552/1552 - 1s - loss: 0.0011 - accuracy: 1.0000\n",
      "Epoch 12/20\n",
      "1552/1552 - 1s - loss: 8.1468e-04 - accuracy: 1.0000\n",
      "Epoch 13/20\n",
      "1552/1552 - 1s - loss: 7.0087e-04 - accuracy: 1.0000\n",
      "Epoch 14/20\n",
      "1552/1552 - 1s - loss: 5.9178e-04 - accuracy: 1.0000\n",
      "Epoch 15/20\n",
      "1552/1552 - 1s - loss: 5.0842e-04 - accuracy: 1.0000\n",
      "Epoch 16/20\n",
      "1552/1552 - 1s - loss: 4.2691e-04 - accuracy: 1.0000\n",
      "Epoch 17/20\n",
      "1552/1552 - 1s - loss: 3.5468e-04 - accuracy: 1.0000\n",
      "Epoch 18/20\n",
      "1552/1552 - 1s - loss: 2.9439e-04 - accuracy: 1.0000\n",
      "Epoch 19/20\n",
      "1552/1552 - 1s - loss: 2.4137e-04 - accuracy: 1.0000\n",
      "Epoch 20/20\n",
      "1552/1552 - 1s - loss: 1.9633e-04 - accuracy: 1.0000\n"
     ]
    },
    {
     "data": {
      "text/plain": [
       "<tensorflow.python.keras.callbacks.History at 0x166ad0f28>"
      ]
     },
     "execution_count": 117,
     "metadata": {},
     "output_type": "execute_result"
    }
   ],
   "source": [
    "# Train Tensorflow Model\n",
    "\n",
    "seed = 7\n",
    "import tensorflow as tf\n",
    "import tensorflow.compat.v1 as tf\n",
    "np.random.seed(seed)\n",
    "\n",
    "with tf.variable_scope(\"test\"):\n",
    "    from tensorflow.keras.models import Sequential\n",
    "    from tensorflow.keras.layers import Dense, Dropout\n",
    "    from tensorflow.keras.layers import Flatten\n",
    "    from tensorflow.keras.preprocessing import sequence\n",
    "\n",
    "            \n",
    "model = Sequential()\n",
    "model.add(Dense(64, activation='relu'))\n",
    "model.add(Dense(2, activation='relu'))\n",
    "model.compile(optimizer='adam',\n",
    "              loss='binary_crossentropy',\n",
    "              metrics=['accuracy'])\n",
    "\n",
    "\n",
    "print(y_train)\n",
    "\n",
    "\n",
    "model.fit(X_train_tfidf_matrix.todense(), y_train, epochs= 20, verbose=2)"
   ]
  },
  {
   "cell_type": "code",
   "execution_count": 118,
   "metadata": {},
   "outputs": [
    {
     "name": "stdout",
     "output_type": "stream",
     "text": [
      "389/389 - 0s - loss: 0.3147 - accuracy: 0.8522\n",
      "Test Accuracy: 85.218507\n"
     ]
    }
   ],
   "source": [
    "# evaluate the Model\n",
    "loss, acc = model.evaluate(X_test_tfidf_matrix.todense(), y_test, verbose=2)\n",
    "print('Test Accuracy: %f' % (acc*100))\n",
    "\n",
    "# not great... but not horrible?"
   ]
  },
  {
   "cell_type": "code",
   "execution_count": 119,
   "metadata": {},
   "outputs": [
    {
     "name": "stdout",
     "output_type": "stream",
     "text": [
      "5451/5451 - 1s\n"
     ]
    }
   ],
   "source": [
    "# make predictions on the BillBoard data using the trained model \n",
    "X_prediction = data['Lyrics'].apply(lambda x: preprocess(x))\n",
    "prediction_matrix = vectorizer.transform(X_prediction)\n",
    "predictions = model.predict(prediction_matrix.todense(), verbose = 2)\n",
    "\n",
    "# 0 = negative, 1 = positive\n",
    "labels = []\n",
    "for p in predictions:\n",
    "    labels.append(np.argmax(p))\n",
    "    \n",
    "data['Labels'] = labels\n",
    "    "
   ]
  },
  {
   "cell_type": "code",
   "execution_count": 120,
   "metadata": {},
   "outputs": [
    {
     "name": "stdout",
     "output_type": "stream",
     "text": [
      "0    3919\n",
      "1    1532\n",
      "Name: Labels, dtype: int64\n"
     ]
    }
   ],
   "source": [
    "## find the number of negative and positive values in the new data\n",
    "print(data['Labels'].value_counts())"
   ]
  },
  {
   "cell_type": "code",
   "execution_count": 121,
   "metadata": {},
   "outputs": [],
   "source": [
    "# find the change over time of positivity/negativity in the music\n",
    "yearData = data.groupby(['Year']).mean()"
   ]
  },
  {
   "cell_type": "code",
   "execution_count": 122,
   "metadata": {},
   "outputs": [
    {
     "data": {
      "image/png": "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\n",
      "text/plain": [
       "<Figure size 432x288 with 1 Axes>"
      ]
     },
     "metadata": {
      "needs_background": "light"
     },
     "output_type": "display_data"
    }
   ],
   "source": [
    "# plot the sentiment of BillBoard music over time\n",
    "import matplotlib as plt\n",
    "\n",
    "import matplotlib.pyplot as plt\n",
    "\n",
    "plt.scatter(yearData.index.tolist(), yearData['Labels'].tolist(), color='red', s=25, marker=\"o\")\n",
    "plt.xlabel('Year')\n",
    "plt.ylabel('Positivity')\n",
    "plt.title('Music Positivity over time')\n",
    "plt.show()"
   ]
  },
  {
   "cell_type": "code",
   "execution_count": null,
   "metadata": {},
   "outputs": [],
   "source": []
  }
 ],
 "metadata": {
  "kernelspec": {
   "display_name": "Python 3",
   "language": "python",
   "name": "python3"
  },
  "language_info": {
   "codemirror_mode": {
    "name": "ipython",
    "version": 3
   },
   "file_extension": ".py",
   "mimetype": "text/x-python",
   "name": "python",
   "nbconvert_exporter": "python",
   "pygments_lexer": "ipython3",
   "version": "3.7.3"
  }
 },
 "nbformat": 4,
 "nbformat_minor": 2
}
